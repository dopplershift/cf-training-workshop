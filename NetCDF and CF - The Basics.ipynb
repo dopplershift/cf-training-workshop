{
 "cells": [
  {
   "cell_type": "markdown",
   "metadata": {},
   "source": [
    "# NetCDF and CF: The Basics\n",
    "\n",
    "**DELETE** --> \n",
    "This workshop will teach some of the basics of CF metadata for netCDF data files with some hands-on work available in Jupyter Notebooks using Python. Along with introduction to netCDF and CF, we will introduce the CF data model and discuss some netCDF implementation details to consider when deciding how to write data with CF and netCDF. We will cover gridded data as well as in situ data (stations, soundings, etc.) and touch on storing geometries data in CF.\n",
    "\n",
    "Assume: Basic understanding of netCDF and CF (what they are and how they work together?)\n",
    "\n",
    "Target Audience: Data producer or manager\n",
    "- Have data they want to (or have been told they should) write to CF compliant netCDF files\n",
    "\n",
    "<-- **DELETE**"
   ]
  },
  {
   "cell_type": "markdown",
   "metadata": {},
   "source": [
    "## Overview of netCDF and CF\n",
    "\n",
    "\n",
    "\n",
    "### netCDF Data Model\n",
    "\n",
    "### CF Data Model"
   ]
  },
  {
   "cell_type": "markdown",
   "metadata": {},
   "source": [
    "## netCDF coordinate variables\n"
   ]
  },
  {
   "cell_type": "markdown",
   "metadata": {},
   "source": [
    "## Units\n",
    "\n",
    "- udunits\n",
    "- Units for spatial/temporal coordinate variables\n",
    "  - lat, lon, z\n",
    "  - time\n"
   ]
  },
  {
   "cell_type": "markdown",
   "source": [
    "##- Gridded data\n",
    "- lat/lon 1-D coordinate variables\n",
    "- x/y 1-D coordinate variables (with 2-D lat/lon)\n",
    "  - \"coordinates\" attribute\n",
    "  - Grid Mapping\n",
    "- Cell bounds (and cell measures?)\n",
    "  - an example\n",
    "- Cell methods\n",
    "  - an example\n",
    "- ??\"climatology\" attribute??s\n"
   ],
   "metadata": {
    "collapsed": false
   }
  },
  {
   "cell_type": "markdown",
   "source": [
    "## Observational data (CF DSG)\n",
    "- Overview of Point, station, sounding, trajectory\n",
    "- Examples\n",
    "- Reference to [NOAA NCEI netCDF Templates](https://www.nodc.noaa.gov/data/formats/netcdf/v2.0/)\n"
   ],
   "metadata": {
    "collapsed": false
   }
  },
  {
   "cell_type": "markdown",
   "source": [
    "## Geometries\n",
    "\n",
    "- Overview\n",
    "- Example\n",
    "- Link to cfgeom python package\n"
   ],
   "metadata": {
    "collapsed": false
   }
  },
  {
   "cell_type": "markdown",
   "source": [
    "## CF Standard Names\n",
    "- Overview:\n",
    "  - Controlled vocabulary of names that describe physical quantity\n",
    "    - (name, description, canonical units)\n",
    "  - Canonical units (units used must be convertable to)\n",
    "  - Help users to decide if data from two sources are comparable\n",
    "    "
   ],
   "metadata": {
    "collapsed": false
   }
  },
  {
   "cell_type": "markdown",
   "source": [
    "## Other topics\n",
    "- Missing data\n",
    "  - _FillValue, missing_data, valid_*\n",
    "- Packed data (scale_factor/add_offset)\n",
    "- Chunking and compression\n",
    "- CRS, shape of earth, horizontal and vertial datum\n"
   ],
   "metadata": {
    "collapsed": false
   }
  },
  {
   "cell_type": "markdown",
   "source": [
    "## Recommendations from NASA \n",
    "- [NASA Dataset Interoperability Recommendations for Earth Science](https://earthdata.nasa.gov/esdis/eso/standards-and-references/dataset-interoperability-recommendations-for-earth-science) - two PDF documents.\n",
    "- NASA Data Prodcut Developer's Guide (from the [previous session](https://2019esipsummermeeting.sched.com/event/PtOg/data-product-developers-guide-workshop))\n"
   ],
   "metadata": {
    "collapsed": false
   }
  },
  {
   "cell_type": "code",
   "execution_count": null,
   "metadata": {},
   "outputs": [],
   "source": []
  }
 ],
 "metadata": {
  "kernelspec": {
   "display_name": "Python 3",
   "language": "python",
   "name": "python3"
  },
  "language_info": {
   "codemirror_mode": {
    "name": "ipython",
    "version": 3
   },
   "file_extension": ".py",
   "mimetype": "text/x-python",
   "name": "python",
   "nbconvert_exporter": "python",
   "pygments_lexer": "ipython3",
   "version": "3.6.5"
  },
  "pycharm": {
   "stem_cell": {
    "cell_type": "raw",
    "source": [],
    "metadata": {
     "collapsed": false
    }
   }
  }
 },
 "nbformat": 4,
 "nbformat_minor": 2
}