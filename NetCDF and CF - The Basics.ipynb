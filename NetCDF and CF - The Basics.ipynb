{
 "cells": [
  {
   "cell_type": "markdown",
   "metadata": {},
   "source": [
    "# NetCDF and CF: The Basics\n",
    "\n"
   ]
  },
  {
   "cell_type": "markdown",
   "metadata": {},
   "source": [
    "### Abstract and other notes \n",
    "This workshop will teach some of the basics of CF metadata for netCDF data files\n",
    "with some hands-on work available in Jupyter Notebooks using Python. Along with\n",
    "introduction to netCDF and CF, we will introduce the CF data model and discuss\n",
    "some netCDF implementation details to consider when deciding how to write data\n",
    "with CF and netCDF. We will cover gridded data as well as in situ data\n",
    "(stations, soundings, etc.) and touch on storing geometries data in CF.\n",
    "\n",
    "Assume: Basic understanding of netCDF and CF (what they are and how they work\n",
    "together?)\n",
    "\n",
    "Target Audience: Data producer or manager\n",
    "- Have data they want to (or have been told they should) write to CF compliant\n",
    "  netCDF files"
   ]
  },
  {
   "cell_type": "markdown",
   "metadata": {},
   "source": [
    "### Some References\n",
    "\n",
    "- See CF Conventions doc ([1.7](http://cfconventions.org/Data/cf-conventions/cf-conventions-1.7/cf-conventions.html))\n",
    "- See Jonathan Gregory's old [CF presentation](http://cfconventions.org/Data/cf-documents/overview/viewgraphs.pdf)\n",
    "- See [CF presentation](https://docs.google.com/presentation/d/1OImxWBNxyj-zdreIarH5GSIuDyREGB62rDah19g6M94/edit#) I gave at Oct 2018 nc training workshop\n",
    "- See  NASA ESDS “Dataset Interoperability Recommendations for Earth Science” ([web page](https://earthdata.nasa.gov/user-resources/standards-and-references/dataset-interoperability-recommendations-for-earth-science))\n",
    "- See CF Data Model (cfdm) python package [tutorial](https://ncas-cms.github.io/cfdm/tutorial.html)\n",
    "- See Tim Whiteaker's cfgeom python package (GitHub [repo](https://github.com/twhiteaker/CFGeom))([tutorial]( https://twhiteaker.github.io/CFGeom/tutorial.html))"
   ]
  },
  {
   "cell_type": "markdown",
   "metadata": {},
   "source": [
    "## Overview of netCDF and CF\n",
    "\n",
    "\n",
    "\n",
    "### netCDF Data Model\n",
    "\n",
    "### CF Data Model\n"
   ]
  },
  {
   "cell_type": "markdown",
   "metadata": {},
   "source": [
    "## netCDF coordinate variables\n",
    "\n",
    "Coordinate variables allow \n",
    "\n",
    "### Latitude, Longitude, and Vertical\n",
    "\n",
    "For latitude, include units attribute with a 'degrees_north' value.\n",
    "```\n",
    "float lat(lat) ;\n",
    "  lat:long_name = \"latitude\" ;\n",
    "  lat:units = \"degrees_north\" ;\n",
    "  lat:standard_name = \"latitude\" ;\n",
    "```\n",
    "\n",
    "For longitude, a units attribute must be included with a 'degrees_east' value. A\n",
    "standard name of 'longitude' is another mechanism for recognizing longitude.\n",
    "\n",
    "```\n",
    "float lon(lon) ;\n",
    "  lon:long_name = \"longitude\" ;\n",
    "  lon:units = \"degrees_east\" ;\n",
    "  lon:standard_name = \"longitude\" ;\n",
    "```\n",
    "A vertical coordinate can be recognized by its units and the 'positive'\n",
    "attribute with value of 'up' or 'down'.\n",
    "\n",
    "Height, depth\n",
    "```\n",
    "axis_name:units = \"meters\" ;\n",
    "axis_name:positive = \"down\" ;\n",
    "```\n",
    "Pressure\n",
    "```\n",
    "float pres(pres) ;\n",
    "  pres:long_name = \"pressure\" ;\n",
    "  pres:units = \"hPa\" ;\n",
    "```\n",
    "\n",
    "### Time\n",
    "\n",
    "Time coordinates must include a 'units' attribute with a string value with a\n",
    "form similar to\n",
    "    'seconds since 2019-01-06 12:00:00.00'\n",
    "\n",
    "'seconds', 'minutes', 'hours', and 'days' are the most commonly used units for\n",
    "time. Due to the variable length of months and years, they are not recommended.\n",
    "\n",
    "### Direct axis identification\n",
    "The 'axis' attribute can be used with a value of 'X', 'Y', 'Z', and 'T' to\n",
    "simplify identification of space and time coordinates and to identify generic\n",
    "spatial coordinates, e.g., a projected coordinate system given by a 'grid_mapping'.\n"
   ]
  },
  {
   "cell_type": "markdown",
   "metadata": {},
   "source": [
    "## Units\n",
    "\n",
    "The 'units' attribute should be used for all variables that represent a\n",
    "dimensional quantity. With only a few exceptions, the value of the `units`\n",
    "attribute must be recognizable by the Unidata Udunits package.\n",
    "\n"
   ]
  },
  {
   "cell_type": "markdown",
   "metadata": {},
   "source": [
    "##- Gridded data\n",
    "- lat/lon 1-D coordinate variables\n",
    "- x/y 1-D coordinate variables (with 2-D lat/lon)\n",
    "  - \"coordinates\" attribute\n",
    "  - Grid Mapping\n",
    "- Cell bounds (and cell measures?)\n",
    "  - an example\n",
    "- Cell methods\n",
    "  - an example\n",
    "- ??\"climatology\" attribute??s\n"
   ]
  },
  {
   "cell_type": "markdown",
   "metadata": {},
   "source": [
    "## Observational data (CF DSG)\n",
    "- Overview of Point, station, sounding, trajectory\n",
    "- Examples\n",
    "- Reference to [NOAA NCEI netCDF Templates](https://www.nodc.noaa.gov/data/formats/netcdf/v2.0/)\n"
   ]
  },
  {
   "cell_type": "markdown",
   "metadata": {},
   "source": [
    "## Geometries\n",
    "\n",
    "- Overview\n",
    "- Example\n",
    "- Link to cfgeom python package\n"
   ]
  },
  {
   "cell_type": "markdown",
   "metadata": {},
   "source": [
    "## CF Standard Names\n",
    "- Overview:\n",
    "  - Controlled vocabulary of names that describe physical quantity\n",
    "    - (name, description, canonical units)\n",
    "  - Canonical units (units used must be convertable to)\n",
    "  - Help users to decide if data from two sources are comparable\n",
    "    "
   ]
  },
  {
   "cell_type": "markdown",
   "metadata": {},
   "source": [
    "## Other topics\n",
    "- Missing data\n",
    "  - _FillValue, missing_data, valid_*\n",
    "- Packed data (scale_factor/add_offset)\n",
    "- Chunking and compression\n",
    "- CRS, shape of earth, horizontal and vertial datum\n"
   ]
  },
  {
   "cell_type": "markdown",
   "metadata": {},
   "source": [
    "## Recommendations from NASA \n",
    "- [NASA Dataset Interoperability Recommendations for Earth Science](https://earthdata.nasa.gov/esdis/eso/standards-and-references/dataset-interoperability-recommendations-for-earth-science) - two PDF documents.\n",
    "- NASA Data Prodcut Developer's Guide (from the [previous session](https://2019esipsummermeeting.sched.com/event/PtOg/data-product-developers-guide-workshop))\n"
   ]
  },
  {
   "cell_type": "code",
   "execution_count": null,
   "metadata": {},
   "outputs": [],
   "source": []
  }
 ],
 "metadata": {
  "kernelspec": {
   "display_name": "Python 3",
   "language": "python",
   "name": "python3"
  },
  "language_info": {
   "codemirror_mode": {
    "name": "ipython",
    "version": 3
   },
   "file_extension": ".py",
   "mimetype": "text/x-python",
   "name": "python",
   "nbconvert_exporter": "python",
   "pygments_lexer": "ipython3",
   "version": "3.6.5"
  },
  "pycharm": {
   "stem_cell": {
    "cell_type": "raw",
    "source": [],
    "metadata": {
     "collapsed": false
    }
   }
  }
 },
 "nbformat": 4,
 "nbformat_minor": 2
}